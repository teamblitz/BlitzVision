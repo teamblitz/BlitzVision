{
 "cells": [
  {
   "cell_type": "code",
   "execution_count": 1,
   "id": "ab7e9e07-716e-4cc3-858e-641725166040",
   "metadata": {
    "tags": []
   },
   "outputs": [],
   "source": [
    "import gtsam\n",
    "import matplotlib.pyplot as plt\n",
    "import numpy as np\n",
    "from gtsam import symbol_shorthand\n",
    "L = symbol_shorthand.L\n",
    "X = symbol_shorthand.X\n",
    "\n",
    "from gtsam.examples import SFMdata\n",
    "from gtsam import (Cal3_S2, DoglegOptimizer,\n",
    "                         GenericProjectionFactorCal3_S2, Marginals,\n",
    "                         NonlinearFactorGraph, PinholeCameraCal3_S2, Point3,\n",
    "                         Pose3, PriorFactorPoint3, PriorFactorPose3, Rot3, Values)\n",
    "from gtsam.utils import plot\n",
    "%config Completer.use_jedi = False"
   ]
  },
  {
   "cell_type": "code",
   "execution_count": null,
   "id": "88c5233d-495c-4e5d-9b49-4cb3faa1f4f1",
   "metadata": {},
   "outputs": [],
   "source": [
    "# in our example, we assume we are given many general camera images,\n",
    "# each consisting of tag image locations, each of which lies in one of \n",
    "# four real cameras. Real camera 0 is considered the origin of the generalized \n",
    "# camera. The factor graph can be used to solve for the landmarks, the between \n",
    "# factors from real cameras1-3 to the generalized camera (which is in fixed relation to\n",
    "# camera 0), and the poses of the generalized camera. Which variables are adjusted can\n",
    "# controlled by prior factors on those variables. Use BearingFactor3D to define the\n",
    "# tag locations in the real camera images (assume we have camera internal calibration).\n",
    "\n",
    "# create factor graph\n",
    "g = g = gtsam.NonlinearFactorGraph\n"
   ]
  },
  {
   "cell_type": "code",
   "execution_count": null,
   "id": "0cd92f94-eff2-4599-a97a-26ba1efac813",
   "metadata": {},
   "outputs": [],
   "source": [
    "# Create ground truth tag locations general camera locations, and camera 1-3 locations\n",
    "\n",
    "# Add noise to ground truth for initialziation of optimization\n",
    "\n",
    "# project GT into tag image locations and add noise\n",
    "\n",
    "# run bundle adjust to estimate optimal values"
   ]
  }
 ],
 "metadata": {
  "kernelspec": {
   "display_name": "Python 3 (ipykernel)",
   "language": "python",
   "name": "python3"
  },
  "language_info": {
   "codemirror_mode": {
    "name": "ipython",
    "version": 3
   },
   "file_extension": ".py",
   "mimetype": "text/x-python",
   "name": "python",
   "nbconvert_exporter": "python",
   "pygments_lexer": "ipython3",
   "version": "3.10.10"
  }
 },
 "nbformat": 4,
 "nbformat_minor": 5
}
