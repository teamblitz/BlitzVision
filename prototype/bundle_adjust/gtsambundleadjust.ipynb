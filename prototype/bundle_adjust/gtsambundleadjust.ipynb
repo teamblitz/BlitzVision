{
 "cells": [
  {
   "cell_type": "code",
   "execution_count": 1,
   "id": "ab7e9e07-716e-4cc3-858e-641725166040",
   "metadata": {
    "tags": []
   },
   "outputs": [],
   "source": [
    "import gtsam\n",
    "import matplotlib.pyplot as plt\n",
    "import numpy as np\n",
    "from scipy.spatial.transform import Rotation as R\n",
    "from gtsam import symbol_shorthand\n",
    "L = symbol_shorthand.L\n",
    "X = symbol_shorthand.X\n",
    "\n",
    "from gtsam.examples import SFMdata\n",
    "from gtsam import (Cal3_S2, DoglegOptimizer,\n",
    "                         GenericProjectionFactorCal3_S2, Marginals,\n",
    "                         NonlinearFactorGraph, PinholeCameraCal3_S2, Point3,\n",
    "                         Pose3, PriorFactorPoint3, PriorFactorPose3, Rot3, Values)\n",
    "from gtsam.utils import plot\n",
    "%config Completer.use_jedi = False"
   ]
  },
  {
   "cell_type": "code",
   "execution_count": 2,
   "id": "9bd2857d-557d-47f7-98ec-c92845f00385",
   "metadata": {
    "tags": []
   },
   "outputs": [
    {
     "data": {
      "text/plain": [
       "array([[ 0.70710678,  0.        ,  0.70710678],\n",
       "       [ 0.        ,  1.        ,  0.        ],\n",
       "       [-0.70710678,  0.        ,  0.70710678]])"
      ]
     },
     "execution_count": 2,
     "metadata": {},
     "output_type": "execute_result"
    }
   ],
   "source": [
    "R.from_rotvec([0,np.pi/4,0]).as_matrix()"
   ]
  },
  {
   "cell_type": "code",
   "execution_count": 5,
   "id": "88c5233d-495c-4e5d-9b49-4cb3faa1f4f1",
   "metadata": {},
   "outputs": [
    {
     "name": "stdout",
     "output_type": "stream",
     "text": [
      "[[[-0.7071  0.      0.7071  0.05  ]\n",
      "  [-0.7071  0.     -0.7071 -0.3   ]\n",
      "  [-0.     -1.     -0.      0.    ]\n",
      "  [ 0.      0.      0.      1.    ]]\n",
      "\n",
      " [[ 0.7071  0.      0.7071  0.05  ]\n",
      "  [-0.7071  0.      0.7071  0.3   ]\n",
      "  [-0.     -1.      0.      0.    ]\n",
      "  [ 0.      0.      0.      1.    ]]\n",
      "\n",
      " [[ 0.7071  0.     -0.7071 -0.05  ]\n",
      "  [ 0.7071  0.      0.7071  0.3   ]\n",
      "  [ 0.     -1.      0.      0.    ]\n",
      "  [ 0.      0.      0.      1.    ]]\n",
      "\n",
      " [[-0.7071  0.     -0.7071 -0.05  ]\n",
      "  [ 0.7071  0.     -0.7071 -0.3   ]\n",
      "  [ 0.     -1.     -0.      0.    ]\n",
      "  [ 0.      0.      0.      1.    ]]]\n"
     ]
    }
   ],
   "source": [
    "# in our example, we assume we are given many general camera images,\n",
    "# each consisting of tag image locations, each of which lies in one of \n",
    "# four real cameras. The general camera origin is at a fixed pose relative to reeal \n",
    "# camera 0 which places its origin at the center of the four cameras, and its x axis\n",
    "# forward on the robot, its y axis to the left on the robot, and its z axis up. \n",
    "\n",
    "# The factor graph can be used to solve for the landmarks, the between \n",
    "# factors from real cameras1-3 to the generalized camera (which is in fixed relation to\n",
    "# camera 0), and the poses of the generalized camera. Which variables are adjusted can\n",
    "# controlled by prior factors on those variables. Use BearingFactor3D to define the\n",
    "# tag locations in the real camera images (assume we have camera internal calibration).\n",
    "# test code\n",
    "\n",
    "# Create ground truth tag locations general camera locations, and camera 0-3 locations\n",
    "\n",
    "# Create array CT to store the four real camera poses. CT[i,:,:] is the transform from camera\n",
    "# i to the generalized camera frame. The generalized camera origin is at the center of the four\n",
    "# cameras with x forward, y to the left, and z up (relative to the robot). The real camera \n",
    "# origins are on the corners of a 60cm x 10cm (in y and x of the general camera) rectangle \n",
    "# centered on the general camera origin and in the general camera z=0 plane. The real cameras\n",
    "# are numbered 0..3 counter-clockwise from the one at (.05, -.3) (distance units are in meters).\n",
    "# The real camera x-z planes are coincident with the general camera x-y plane, and the real\n",
    "# cameras are oriented to point outward at 45 degrees off of the x-y axes of the general camera.\n",
    "CT = np.zeros((4, 4, 4))\n",
    "CT[0, 0:3,0:3] = (R.from_rotvec([-np.pi/2,0,0]) * R.from_rotvec([0,3*np.pi/4,0])).as_matrix()\n",
    "CT[0, :,3] = [ 0.05, -0.3, 0, 1]\n",
    "CT[1,0:3,0:3] = (R.from_rotvec([-np.pi/2,0,0]) * R.from_rotvec([0,np.pi/4,0])).as_matrix()\n",
    "CT[1, :,3] = [ 0.05,  0.3, 0, 1]\n",
    "CT[2,0:3,0:3] = (R.from_rotvec([-np.pi/2,0,0]) * R.from_rotvec([0,-np.pi/4,0])).as_matrix()\n",
    "CT[2, :,3] = [-0.05,  0.3, 0, 1]\n",
    "CT[3,0:3,0:3] = (R.from_rotvec([-np.pi/2,0,0]) * R.from_rotvec([0,-3*np.pi/4,0])).as_matrix()\n",
    "CT[3, :,3] = [-0.05, -0.3, 0, 1]\n",
    "\n",
    "# print(np.round(CT, decimals=4))\n",
    "\n",
    "# The april tags are at the 20 locations given in the 4x20 array A (in homogeneous coordinates)\n",
    "A = np.array([10*[3] + 10*[-3],\n",
    "              4*list(range(0,5)),\n",
    "              2*(5*[0] + 5*[1]),\n",
    "              20*[1]])\n",
    "\n",
    "# The generalized camera starts out at the world cooridnate frame and moves along the world y axis\n",
    "T = np.zeros((5, 4,4))\n",
    "T[0, 0:3,0:3] = np.identity(3)\n",
    "T[0, :,3] = [0, 0, 0, 1]\n",
    "T[1, 0:3,0:3] = np.identity(3)\n",
    "T[1, :,3] = [0, 1, 0, 1]\n",
    "T[2, 0:3,0:3] = np.identity(3)\n",
    "T[2, :,3] = [0, 2, 0, 1]\n",
    "T[3, 0:3,0:3] = R.from_rotvec([0,0,np.pi/6]).as_matrix()\n",
    "T[3, :,3] = [0, 2, 1, 1]\n",
    "T[4, 0:3,0:3] = R.from_rotvec([0,0,np.pi/4]).as_matrix()\n",
    "T[4, :,3] = [1, 2, 0, 1]\n",
    "\n",
    "# Project features to produce P and O. Assume tags project into cameras 0-3 based on their x-y \n",
    "# quadrant in the generalized camera frame\n",
    "def project(T, A):\n",
    "    \"\"\"\n",
    "       T is the transform from the generalized camera to the world\n",
    "       A is a 4 by n array with the homogeneous coordinates of the tags\n",
    "       \n",
    "       Returns:\n",
    "       O: n by 3 array of the projection ray origins in the generalized camera frame\n",
    "       P: n by 3 array of the projection ray directions (to the tags) in the generalized camera frame\n",
    "    \"\"\"\n",
    "    signs2camera= [[2, 1], [3, 0]]\n",
    "    n = A.shape[1]\n",
    "    G = np.linalg.inv(T) @ A   # tags in generalized camera frame\n",
    "    O = np.zeros((n,3))\n",
    "    P = np.zeros((n,3))\n",
    "    for p in range(n):\n",
    "        camera = signs2camera[int(G[0,p] >= 0)][int(G[1,p] >= 0)]\n",
    "        O[p,:] = CT[camera, 0:3, 3]\n",
    "        # transform the tag in generalized camera coords to the real camera coords, then\n",
    "        # rotate this direction back to generalized camera coords again and normalize to unit length\n",
    "        P[p,:] = CT[camera, 0:3,0:3] @ (np.linalg.inv(CT[camera, :,:]) @ G[:, p])[0:3]\n",
    "        P[p,:] /= np.linalg.norm(P[p,:])\n",
    "        \n",
    "    return P, O\n",
    "\n"
   ]
  },
  {
   "cell_type": "code",
   "execution_count": null,
   "id": "0cd92f94-eff2-4599-a97a-26ba1efac813",
   "metadata": {},
   "outputs": [],
   "source": [
    "\n",
    "# Add noise to ground truth for initialziation of optimization\n",
    "\n",
    "# project GT into tag image locations and add noise\n",
    "\n",
    "# run bundle adjust to estimate optimal values"
   ]
  },
  {
   "cell_type": "code",
   "execution_count": null,
   "id": "427154ea-2201-4962-adbe-9387773b92cc",
   "metadata": {},
   "outputs": [],
   "source": [
    "# create factor graph\n",
    "g = g = gtsam.NonlinearFactorGraph\n"
   ]
  }
 ],
 "metadata": {
  "kernelspec": {
   "display_name": "Python 3 (ipykernel)",
   "language": "python",
   "name": "python3"
  },
  "language_info": {
   "codemirror_mode": {
    "name": "ipython",
    "version": 3
   },
   "file_extension": ".py",
   "mimetype": "text/x-python",
   "name": "python",
   "nbconvert_exporter": "python",
   "pygments_lexer": "ipython3",
   "version": "3.10.10"
  }
 },
 "nbformat": 4,
 "nbformat_minor": 5
}
