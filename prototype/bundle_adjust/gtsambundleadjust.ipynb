{
 "cells": [
  {
   "cell_type": "code",
   "execution_count": 1,
   "id": "ab7e9e07-716e-4cc3-858e-641725166040",
   "metadata": {
    "tags": []
   },
   "outputs": [],
   "source": [
    "import gtsam\n",
    "import matplotlib.pyplot as plt\n",
    "import numpy as np\n",
    "from scipy.spatial.transform import Rotation as R\n",
    "from gtsam import symbol_shorthand\n",
    "L = symbol_shorthand.L\n",
    "X = symbol_shorthand.X\n",
    "\n",
    "from gtsam.examples import SFMdata\n",
    "from gtsam import (Cal3_S2, DoglegOptimizer,\n",
    "                         GenericProjectionFactorCal3_S2, Marginals,\n",
    "                         NonlinearFactorGraph, PinholeCameraCal3_S2, Point3,\n",
    "                         Pose3, PriorFactorPoint3, PriorFactorPose3, Rot3, Values)\n",
    "from gtsam.utils import plot\n",
    "%config Completer.use_jedi = False"
   ]
  },
  {
   "cell_type": "code",
   "execution_count": 2,
   "id": "88c5233d-495c-4e5d-9b49-4cb3faa1f4f1",
   "metadata": {},
   "outputs": [],
   "source": [
    "# in our example, we assume we are given many general camera images,\n",
    "# each consisting of tag image locations, each of which lies in one of \n",
    "# four real cameras. The general camera origin is at a fixed pose relative to reeal \n",
    "# camera 0 which places its origin at the center of the four cameras, and its x axis\n",
    "# forward on the robot, its y axis to the left on the robot, and its z axis up. \n",
    "\n",
    "# The factor graph can be used to solve for the landmarks, the between \n",
    "# factors from real cameras1-3 to the generalized camera (which is in fixed relation to\n",
    "# camera 0), and the poses of the generalized camera. Which variables are adjusted can\n",
    "# controlled by prior factors on those variables. Use BearingFactor3D to define the\n",
    "# tag locations in the real camera images (assume we have camera internal calibration).\n",
    "# test code\n",
    "\n",
    "# Create ground truth tag locations general camera locations, and camera 0-3 locations\n",
    "%run ../simulate/simulate_cam.ipynb\n",
    "\n"
   ]
  },
  {
   "cell_type": "code",
   "execution_count": 4,
   "id": "d1f2459f-cbf2-4a8a-b212-c93f7a6b9f6c",
   "metadata": {
    "tags": []
   },
   "outputs": [
    {
     "name": "stdout",
     "output_type": "stream",
     "text": [
      "[[[-0.7071  0.      0.7071  0.05  ]\n",
      "  [-0.7071  0.     -0.7071 -0.3   ]\n",
      "  [-0.     -1.     -0.      0.    ]\n",
      "  [ 0.      0.      0.      1.    ]]\n",
      "\n",
      " [[-0.7071  0.     -0.7071 -0.05  ]\n",
      "  [ 0.7071  0.     -0.7071 -0.3   ]\n",
      "  [ 0.     -1.     -0.      0.    ]\n",
      "  [ 0.      0.      0.      1.    ]]\n",
      "\n",
      " [[ 0.7071  0.      0.7071  0.05  ]\n",
      "  [-0.7071  0.      0.7071  0.3   ]\n",
      "  [-0.     -1.      0.      0.    ]\n",
      "  [ 0.      0.      0.      1.    ]]\n",
      "\n",
      " [[ 0.7071  0.     -0.7071 -0.05  ]\n",
      "  [ 0.7071  0.      0.7071  0.3   ]\n",
      "  [ 0.     -1.      0.      0.    ]\n",
      "  [ 0.      0.      0.      1.    ]]]\n"
     ]
    }
   ],
   "source": [
    "print(np.round(CT, decimals=4))"
   ]
  },
  {
   "cell_type": "code",
   "execution_count": null,
   "id": "0cd92f94-eff2-4599-a97a-26ba1efac813",
   "metadata": {},
   "outputs": [],
   "source": [
    "\n",
    "# Add noise to ground truth for initialziation of optimization\n",
    "\n",
    "# project GT into tag image locations and add noise\n",
    "\n",
    "# run bundle adjust to estimate optimal values"
   ]
  },
  {
   "cell_type": "code",
   "execution_count": null,
   "id": "427154ea-2201-4962-adbe-9387773b92cc",
   "metadata": {},
   "outputs": [],
   "source": [
    "# create factor graph\n",
    "g = g = gtsam.NonlinearFactorGraph\n"
   ]
  }
 ],
 "metadata": {
  "kernelspec": {
   "display_name": "Python 3",
   "language": "python",
   "name": "python3"
  },
  "language_info": {
   "codemirror_mode": {
    "name": "ipython",
    "version": 3
   },
   "file_extension": ".py",
   "mimetype": "text/x-python",
   "name": "python",
   "nbconvert_exporter": "python",
   "pygments_lexer": "ipython3",
   "version": "3.11.1 (main, Jan 28 2023, 18:57:41) [GCC 7.5.0]"
  },
  "vscode": {
   "interpreter": {
    "hash": "ca3ed784184f1b3bb7c3539bfb45e71710cd27667424f92c2d5bb4df9c107c23"
   }
  }
 },
 "nbformat": 4,
 "nbformat_minor": 5
}
