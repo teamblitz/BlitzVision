{
 "cells": [
  {
   "cell_type": "code",
   "execution_count": 2,
   "id": "59e2d087-140f-4829-a71b-1e1cd7a73bd3",
   "metadata": {
    "tags": []
   },
   "outputs": [],
   "source": [
    "import numpy as np\n",
    "import cv2\n",
    "from scipy.spatial.transform import Rotation as R\n",
    "%config Completer.use_jedi = False"
   ]
  },
  {
   "cell_type": "code",
   "execution_count": 12,
   "id": "8ad157e2-269d-490c-939b-85f5aba2ccf8",
   "metadata": {
    "tags": []
   },
   "outputs": [],
   "source": [
    "# Create ground truth tag locations, general camera locations, and camera 0-3 locations\n",
    "\n",
    "# create the ground truth tag locations in the world coordinate system\n",
    "# The april tags are at the 20 locations given in the 4x20 array A (in homogeneous coordinates)\n",
    "# The tags are placed on both sides of a 6m wide corridor along the world x axis, half at elevation 0m\n",
    "# the other half at elevation 1m\n",
    "A = np.array([4*list(range(0,5)),\n",
    "              10*[3] + 10*[-3],\n",
    "              2*(5*[0] + 5*[1]),\n",
    "              20*[1]])\n",
    "\n",
    "\n",
    "# Create the generalized camera locations for the simulated data\n",
    "# The generalized camera starts out at the world cooridnate frame and moves along the world y axis\n",
    "# and moves sinusoidally along x\n",
    "numframes = 15\n",
    "rotperframe = np.pi/12.0\n",
    "xtransperframe = 4.0/numframes\n",
    "ytransamp = 1\n",
    "ytransfreq = 2*np.pi/numframes     # one cycle over full path\n",
    "T = np.zeros((numframes, 4,4))\n",
    "for f in range(numframes):\n",
    "    T[f, 0:3,0:3] = R.from_rotvec([0,0,f*rotperframe]).as_matrix()\n",
    "    T[f, :,3] = [f*xtransperframe, ytransamp*np.cos(ytransfreq*f), 0, 1]\n",
    "# print(np.round(T, decimals=4))\n",
    "\n",
    "\n",
    "# Create camera 0-3 locations in the general camera frame as an array CT. CT[i,:,:] is the transform \n",
    "# from camera i to the generalized camera frame. The generalized camera origin is at the center of the\n",
    "# four cameras with x forward, y to the left, and z up (relative to the robot). The real camera \n",
    "# origins are on the corners of a 60cm x 10cm (in y and x of the general camera) rectangle \n",
    "# centered on the general camera origin and in the general camera z=0 plane. The real cameras are\n",
    "# numbered as follows:\n",
    "#\n",
    "#                                           front of robot\n",
    "#          2 ----------------------------------------------------------------------------- 0\n",
    "#           |                                    x ^                                      |\n",
    "#           |                                      |                                      |\n",
    "#           |                               y      |                                      |\n",
    "#   10 cm   |                              <-------o                                      |\n",
    "#           |                                                                             |\n",
    "#           |                                                                             |\n",
    "#           |                                                                             |\n",
    "#          3 ----------------------------------------------------------------------------- 1\n",
    "#                                                60 cm\n",
    "#\n",
    "# The angles of the camera viewpoints in the horizontal plane measured CCW from robot forward \n",
    "# direction\n",
    "camangle0 = -  np.pi/4  # - 37.5 * np.pi/180.0\n",
    "camangle1 = -3*np.pi/4  # -157.5 * np.pi/180.0\n",
    "camangle2 =    np.pi/4  #   37.5 * np.pi/180.0\n",
    "camangle3 =  3*np.pi/4  #  157.5 * np.pi/180.0\n",
    "# The real camera x-z planes are coincident with the general camera x-y plane. \n",
    "CT = np.zeros((4, 4, 4))\n",
    "CT[0, 0:3,0:3] = (R.from_rotvec([-np.pi/2,0,0]) * R.from_rotvec([0, np.pi/2 - camangle0, 0])).as_matrix()\n",
    "CT[0, :,3] = [ 0.05, -0.3, 0, 1]\n",
    "CT[1,0:3,0:3] = (R.from_rotvec([-np.pi/2,0,0]) * R.from_rotvec([0, np.pi/2 - camangle1, 0])).as_matrix()\n",
    "CT[1, :,3] = [-0.05, -0.3, 0, 1]\n",
    "CT[2,0:3,0:3] = (R.from_rotvec([-np.pi/2,0,0]) * R.from_rotvec([0, np.pi/2 - camangle2, 0])).as_matrix()\n",
    "CT[2, :,3] = [ 0.05,  0.3, 0, 1]\n",
    "CT[3,0:3,0:3] = (R.from_rotvec([-np.pi/2,0,0]) * R.from_rotvec([0, np.pi/2 - camangle3, 0])).as_matrix()\n",
    "CT[3, :,3] = [-0.05,  0.3, 0, 1]\n",
    "\n",
    "# print the computed transforms for cameras 0-3\n",
    "# for ct in CT:\n",
    "#     print(np.round(ct, decimals=4))\n",
    "\n",
    "# print the camera \n",
    "# for a in range(15, 360, 30):\n",
    "#     Gs = 3*np.array([np.cos(a*np.pi/180.0), np.sin(a*np.pi/180.0), 0])\n",
    "#     print(Gs[0:3].shape, CT[0, 0:3, 2].shape)\n",
    "#     unit = lambda v: v / np.linalg.norm(v)    # normalize vector to unit length\n",
    "#     camera = np.argmax([np.dot(unit(Gs[0:3] - ct[0:3,3]), ct[0:3, 2]) for ct in CT])\n",
    "#     print('for angle ', a, ' select camera ', camera)\n",
    "\n",
    "# Project features to produce generalized camera ray directions P and ray origins O. \n",
    "# Assume tags project into the real cameras 0 to (k-1) whose z axis is closest to the \n",
    "# direction to tag.\n",
    "def project(T, A, CT, camera_params=None):\n",
    "    \"\"\"\n",
    "       T is the transform from the generalized camera to the world\n",
    "       A is a 4 by n array with the homogeneous coordinates of the tags\n",
    "       CT is a k by 4 by 4 array of k Euclidean transforms into the k real cameras\n",
    "       camera_params is a length k array of tuples (camera_matrix, distortion_coeffs),\n",
    "                    one for each real camera\n",
    "       \n",
    "       Returns:\n",
    "       O: n by 3 array of the projection ray origins in the generalized camera frame\n",
    "       P: n by 3 array of the projection ray directions (to the tags) in the generalized camera frame\n",
    "       UV: length n list of (camera number, projected image points) tuples\n",
    "    \"\"\"\n",
    "    n = A.shape[1]\n",
    "    k = CT.shape[0]\n",
    "    G = np.linalg.inv(T) @ A   # tag locations in generalized camera frame\n",
    "    O = np.zeros((n,3))\n",
    "    P = np.zeros((n,3))\n",
    "    UV = n * [None]\n",
    "    unit = lambda v: v / np.linalg.norm(v)    # normalize vector to unit length\n",
    "    for p in range(n):\n",
    "        # select the camera whose z-axis direction is closest to the direction to the tag \n",
    "        camera = np.argmax([np.dot(unit(G[0:3,p] - ct[0:3, 3]), ct[0:3, 2]) for ct in CT])\n",
    "        O[p,:] = CT[camera, 0:3, 3]\n",
    "        # transform the tag in generalized camera coords to the real camera coords, then\n",
    "        # rotate this direction back to generalized camera coords again and normalize to unit length\n",
    "        P[p,:] = G[0:3, p] - CT[camera, 0:3, 3]\n",
    "        P[p,:] /= np.linalg.norm(P[p,:])\n",
    "        \n",
    "        if camera_params is not None:\n",
    "            uv, _ = cv2.projectPoints((np.linalg.inv(CT[camera,:,:]) @ G[:,p])[0:3], \n",
    "                                       np.zeros((1,3)), np.zeros((1,3)),\n",
    "                                      *camera_params[camera])\n",
    "            UV[p] = (camera, uv[0].T)\n",
    "        \n",
    "    return P, O, UV\n",
    "\n"
   ]
  },
  {
   "cell_type": "code",
   "execution_count": 13,
   "id": "bd09ba16-f110-49e8-b64f-e1832c42aa22",
   "metadata": {},
   "outputs": [],
   "source": [
    "cammat = lambda f, w, h: np.array([[f, 0, w/2],[0, f, h/2],[0,0,1]])\n",
    "camera_params = ((cammat(500, 1024, 1024), np.array([])),\n",
    "                 (cammat(400, 800, 600), np.array([])),\n",
    "                 (cammat(350, 1024, 1024), np.array([])),\n",
    "                 (cammat(500, 1280, 1600), np.array([])))\n",
    "P, O, UV = project(T[0], A, CT, camera_params)"
   ]
  },
  {
   "cell_type": "code",
   "execution_count": 14,
   "id": "00c266b2-91ab-443d-a8c4-a3599753725b",
   "metadata": {
    "tags": []
   },
   "outputs": [
    {
     "data": {
      "text/plain": [
       "[(2,\n",
       "  array([[140.78787879],\n",
       "         [512.        ]])),\n",
       " (2,\n",
       "  array([[412.94339623],\n",
       "         [512.        ]])),\n",
       " (2,\n",
       "  array([[535.97260274],\n",
       "         [512.        ]])),\n",
       " (2,\n",
       "  array([[606.08602151],\n",
       "         [512.        ]])),\n",
       " (2,\n",
       "  array([[651.38053097],\n",
       "         [512.        ]])),\n",
       " (2,\n",
       "  array([[140.78787879],\n",
       "         [212.01530495]])),\n",
       " (2,\n",
       "  array([[412.94339623],\n",
       "         [325.21707667]])),\n",
       " (2,\n",
       "  array([[535.97260274],\n",
       "         [376.39048032]])),\n",
       " (2,\n",
       "  array([[606.08602151],\n",
       "         [405.55381789]])),\n",
       " (2,\n",
       "  array([[651.38053097],\n",
       "         [424.39385012]])),\n",
       " (1,\n",
       "  array([[-10.95890411],\n",
       "         [300.        ]])),\n",
       " (0,\n",
       "  array([[807.69892473],\n",
       "         [512.        ]])),\n",
       " (0,\n",
       "  array([[666.86725664],\n",
       "         [512.        ]])),\n",
       " (0,\n",
       "  array([[568.39097744],\n",
       "         [512.        ]])),\n",
       " (0,\n",
       "  array([[495.66013072],\n",
       "         [512.        ]])),\n",
       " (1,\n",
       "  array([[-10.95890411],\n",
       "         [145.01769179]])),\n",
       " (0,\n",
       "  array([[807.69892473],\n",
       "         [359.93402555]])),\n",
       " (0,\n",
       "  array([[666.86725664],\n",
       "         [386.84835731]])),\n",
       " (0,\n",
       "  array([[568.39097744],\n",
       "         [405.66815321]])),\n",
       " (0,\n",
       "  array([[495.66013072],\n",
       "         [419.56774102]]))]"
      ]
     },
     "execution_count": 14,
     "metadata": {},
     "output_type": "execute_result"
    }
   ],
   "source": [
    "UV"
   ]
  },
  {
   "cell_type": "code",
   "execution_count": 16,
   "id": "833ca390-d7fe-4a33-aa95-60f3b97244dc",
   "metadata": {
    "tags": []
   },
   "outputs": [
    {
     "name": "stdout",
     "output_type": "stream",
     "text": [
      "[[-0.0294  0.9996 -0.    ]] [-0.0294  0.9996  0.    ]\n",
      "[[0.4878 0.8729 0.    ]] [0.4878 0.8729 0.    ]\n",
      "[[0.7538 0.6571 0.    ]] [0.7538 0.6571 0.    ]\n",
      "[[0.8664 0.4993 0.    ]] [0.8664 0.4993 0.    ]\n",
      "[[0.9185 0.3953 0.    ]] [0.9185 0.3953 0.    ]\n",
      "[[-0.0253  0.8617  0.5069]] [-0.0253  0.8617  0.5069]\n",
      "[[0.434  0.7765 0.4568]] [0.434  0.7765 0.4568]\n",
      "[[0.7031 0.6129 0.3606]] [0.7031 0.6129 0.3606]\n",
      "[[0.8313 0.4791 0.2818]] [0.8313 0.4791 0.2818]\n",
      "[[0.8947 0.385  0.2265]] [0.8947 0.385  0.2265]\n",
      "[[ 0.0135 -0.9999 -0.    ]] [ 0.0135 -0.9999  0.    ]\n",
      "[[ 0.2487 -0.9686  0.    ]] [ 0.2487 -0.9686  0.    ]\n",
      "[[ 0.4662 -0.8847 -0.    ]] [ 0.4662 -0.8847  0.    ]\n",
      "[[ 0.6234 -0.7819 -0.    ]] [ 0.6234 -0.7819  0.    ]\n",
      "[[ 0.7298 -0.6836  0.    ]] [ 0.7298 -0.6836  0.    ]\n",
      "[[ 0.013  -0.9653  0.2609]] [ 0.013  -0.9653  0.2609]\n",
      "[[ 0.2406 -0.937   0.2532]] [ 0.2406 -0.937   0.2532]\n",
      "[[ 0.4535 -0.8604  0.2325]] [ 0.4535 -0.8604  0.2325]\n",
      "[[ 0.6099 -0.765   0.2068]] [ 0.6099 -0.765   0.2068]\n",
      "[[ 0.7177 -0.6723  0.1817]] [ 0.7177 -0.6723  0.1817]\n"
     ]
    }
   ],
   "source": [
    "for i, ppt in enumerate(UV):\n",
    "    camera = ppt[0]\n",
    "    pt = ppt[1]\n",
    "    dir = cv2.undistortPoints(pt, *camera_params[camera])\n",
    "    dir.shape\n",
    "    dir = CT[camera,0:3,0:3] @ np.array([[dir[0,0,0]],[dir[0,0,1]],[1.0]])\n",
    "    print(np.round(dir.T/np.linalg.norm(dir), decimals=4),\n",
    "          np.round(P[i,:], decimals=4))"
   ]
  },
  {
   "cell_type": "code",
   "execution_count": 31,
   "id": "e86ddbcb-883c-4440-8c82-af0f34717ff4",
   "metadata": {
    "tags": []
   },
   "outputs": [
    {
     "data": {
      "text/plain": [
       "array([[-2.93990516e-02,  9.99567754e-01,  1.44948515e-32],\n",
       "       [ 4.87821358e-01,  8.72943482e-01,  2.53173156e-32],\n",
       "       [ 7.53772730e-01,  6.57135200e-01,  0.00000000e+00],\n",
       "       [ 8.66429965e-01,  4.99298624e-01,  1.44807781e-32],\n",
       "       [ 9.18542556e-01,  3.95322113e-01,  0.00000000e+00],\n",
       "       [-2.53428640e-02,  8.61657377e-01,  5.06857281e-01],\n",
       "       [ 4.33952850e-01,  7.76547204e-01,  4.56792473e-01],\n",
       "       [ 7.03073710e-01,  6.12936055e-01,  3.60550621e-01],\n",
       "       [ 8.31315803e-01,  4.79063344e-01,  2.81801967e-01],\n",
       "       [ 8.94670926e-01,  3.85048246e-01,  2.26498969e-01],\n",
       "       [ 1.35122798e-02, -9.99908705e-01,  1.99862049e-32],\n",
       "       [ 2.48690247e-01, -9.68583069e-01,  2.58134228e-32],\n",
       "       [ 4.66239077e-01, -8.84658761e-01,  1.17883904e-32],\n",
       "       [ 6.23405636e-01, -7.81898595e-01,  0.00000000e+00],\n",
       "       [ 7.29825236e-01, -6.83633765e-01,  0.00000000e+00],\n",
       "       [ 1.30443413e-02, -9.65281259e-01,  2.60886827e-01],\n",
       "       [ 2.40583439e-01, -9.37009184e-01,  2.53245725e-01],\n",
       "       [ 4.53457718e-01, -8.60406951e-01,  2.32542419e-01],\n",
       "       [ 6.09935199e-01, -7.65003470e-01,  2.06757695e-01],\n",
       "       [ 7.17677841e-01, -6.72255193e-01,  1.81690593e-01]])"
      ]
     },
     "execution_count": 31,
     "metadata": {},
     "output_type": "execute_result"
    }
   ],
   "source": [
    "P"
   ]
  },
  {
   "cell_type": "code",
   "execution_count": null,
   "id": "df05887e-67db-4499-951f-756ad77d421d",
   "metadata": {},
   "outputs": [],
   "source": []
  }
 ],
 "metadata": {
  "kernelspec": {
   "display_name": "Python 3 (ipykernel)",
   "language": "python",
   "name": "python3"
  },
  "language_info": {
   "codemirror_mode": {
    "name": "ipython",
    "version": 3
   },
   "file_extension": ".py",
   "mimetype": "text/x-python",
   "name": "python",
   "nbconvert_exporter": "python",
   "pygments_lexer": "ipython3",
   "version": "3.10.10"
  }
 },
 "nbformat": 4,
 "nbformat_minor": 5
}
